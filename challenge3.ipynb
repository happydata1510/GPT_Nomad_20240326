{
 "cells": [
  {
   "cell_type": "code",
   "execution_count": 5,
   "metadata": {},
   "outputs": [],
   "source": [
    "from langchain.memory import ConversationBufferMemory\n",
    "from langchain import PromptTemplate, FewShotPromptTemplate, LLMChain\n",
    "from langchain.chat_models import ChatOpenAI\n",
    "from dotenv import load_dotenv\n",
    "import os\n",
    "import openai"
   ]
  },
  {
   "cell_type": "code",
   "execution_count": 6,
   "metadata": {},
   "outputs": [],
   "source": [
    "examples = [\n",
    "    {\"movie\": \"탑건\", \"emojis\": \"🛩️👨‍✈️🔥\"},\n",
    "    {\"movie\": \"대부\", \"emojis\": \"👨‍👨‍👦🔫🍝\"},\n",
    "    {\"movie\": \"라라랜드\", \"emojis\": \"🎹🎶💃\"},\n",
    "    {\"movie\": \"인디아나 존스\", \"emojis\": \"🤠🪓🗿\"}\n",
    "]\n",
    "\n",
    "example_template = \"\"\"\n",
    "영화: {movie}\n",
    "이모티콘: {emojis}\n",
    "\"\"\"\n",
    "\n",
    "example_prompt = PromptTemplate(\n",
    "    input_variables=[\"movie\", \"emojis\"],\n",
    "    template=example_template\n",
    ")\n",
    "\n",
    "few_shot_prompt_template = FewShotPromptTemplate(\n",
    "    examples=examples,\n",
    "    example_prompt=example_prompt,\n",
    "    prefix=\"아래 예시와 같이 영화 제목을 나타내는 세 개의 이모티콘을 생성해주세요.\",\n",
    "    suffix=\"영화: {movie}\",\n",
    "    input_variables=[\"movie\"],\n",
    "    example_separator=\"\\n\\n\"\n",
    ")"
   ]
  },
  {
   "cell_type": "code",
   "execution_count": 7,
   "metadata": {},
   "outputs": [],
   "source": [
    "memory = ConversationBufferMemory(return_messages=True)\n",
    "llm = ChatOpenAI(temperature=0.0)\n",
    "\n",
    "chain = LLMChain(llm=llm, prompt=few_shot_prompt_template, memory=memory)"
   ]
  },
  {
   "cell_type": "code",
   "execution_count": 8,
   "metadata": {},
   "outputs": [
    {
     "name": "stdout",
     "output_type": "stream",
     "text": [
      "\n",
      "이모티콘: 🕶️💊💥\n",
      "\n",
      "이모티콘: 🌿🌌🔵\n"
     ]
    }
   ],
   "source": [
    "movie1 = \"매트릭스\"\n",
    "print(chain.run(movie1))\n",
    "\n",
    "movie2 = \"아바타\"\n",
    "print(chain.run(movie2))"
   ]
  },
  {
   "cell_type": "code",
   "execution_count": 9,
   "metadata": {},
   "outputs": [
    {
     "name": "stdout",
     "output_type": "stream",
     "text": [
      "{'history': [HumanMessage(content='매트릭스'), AIMessage(content='\\n이모티콘: 🕶️💊💥'), HumanMessage(content='아바타'), AIMessage(content='\\n이모티콘: 🌿🌌🔵')]}\n"
     ]
    }
   ],
   "source": [
    "print(memory.load_memory_variables({}))"
   ]
  },
  {
   "cell_type": "code",
   "execution_count": null,
   "metadata": {},
   "outputs": [],
   "source": []
  },
  {
   "cell_type": "code",
   "execution_count": null,
   "metadata": {},
   "outputs": [],
   "source": []
  }
 ],
 "metadata": {
  "kernelspec": {
   "display_name": ".venv",
   "language": "python",
   "name": "python3"
  },
  "language_info": {
   "codemirror_mode": {
    "name": "ipython",
    "version": 3
   },
   "file_extension": ".py",
   "mimetype": "text/x-python",
   "name": "python",
   "nbconvert_exporter": "python",
   "pygments_lexer": "ipython3",
   "version": "3.11.6"
  }
 },
 "nbformat": 4,
 "nbformat_minor": 2
}
